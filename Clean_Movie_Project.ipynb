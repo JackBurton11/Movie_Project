{
 "cells": [
  {
   "cell_type": "code",
   "execution_count": 1,
   "metadata": {},
   "outputs": [],
   "source": [
    "import requests"
   ]
  },
  {
   "cell_type": "code",
   "execution_count": null,
   "metadata": {},
   "outputs": [],
   "source": [
    "page = requests.get('https://www.the-numbers.com/box-office-records/domestic/all-movies/cumulative/released-in-2017')"
   ]
  },
  {
   "cell_type": "code",
   "execution_count": null,
   "metadata": {},
   "outputs": [],
   "source": [
    "from bs4 import BeautifulSoup as BS\n",
    "soup = BS(page.content, 'html.parser')\n",
    "soup"
   ]
  },
  {
   "cell_type": "code",
   "execution_count": null,
   "metadata": {},
   "outputs": [],
   "source": [
    "app_soup = BS(page.content, 'html.parser')"
   ]
  },
  {
   "cell_type": "code",
   "execution_count": null,
   "metadata": {},
   "outputs": [],
   "source": [
    "links = []\n",
    "for item in app_soup.find_all('a'):\n",
    "    links.append(item.get('href'))"
   ]
  },
  {
   "cell_type": "code",
   "execution_count": null,
   "metadata": {},
   "outputs": [],
   "source": [
    "links_2017 = links[78:178] "
   ]
  },
  {
   "cell_type": "code",
   "execution_count": null,
   "metadata": {},
   "outputs": [],
   "source": [
    "base = 'https://www.the-numbers.com'"
   ]
  },
  {
   "cell_type": "code",
   "execution_count": null,
   "metadata": {},
   "outputs": [],
   "source": [
    "links_2017_list = []\n",
    "for item in links_2017:\n",
    "    links_2017_list.append(base + item)"
   ]
  },
  {
   "cell_type": "code",
   "execution_count": null,
   "metadata": {},
   "outputs": [],
   "source": [
    "def movie_scrape(url, year1):\n",
    "    movie = requests.get(url)\n",
    "    movie1 = BS(movie.content, 'html.parser')\n",
    "    name1 = movie1.find(itemprop='name').get_text()\n",
    "    #finding movie name in website\n",
    "    name2 = name1.replace(\" (\" + str(year1) + \")\", \"\")\n",
    "    #removing the year from the string\n",
    "    name3 = name2.replace(\"'\", '')\n",
    "    #removing apostrophes as we will use the titles to webscrape Rotten Tomatoes later\n",
    "    if 'â\\x80\\x99' in name3:\n",
    "        name3 = name3.replace(\"â\\x80\\x99\", \"\")\n",
    "        #removing apostrophes that appear this way in Python\n",
    "    mf = movie1.find(id='movie_finances')\n",
    "    #finding movie table with info on domestic box office and`this  \n",
    "    dbo1 = MF.find_all(class_='data')[0].get_text()\n",
    "    dbo2 = dbo1.replace(',', '')\n",
    "    dbo = int(dbo2.replace('$', ''))\n",
    "    # removing $ and commas to convert Domestic Box Office numbers into integers\n",
    "    if len(mf.find_all(class_='data')) >= 6:\n",
    "        dvs1 = mf.find_all(class_='data')[5].get_text()\n",
    "        dvs2 = dvs1.replace(',', '')\n",
    "        dvs = int(dvs2.replace('$', ''))\n",
    "    else:\n",
    "        dvs = None\n",
    "    #removing $ and commas to convert Domestic Video Sales into integers. Using conditional statement as a few movies don't have that info. \n",
    "    md = movie1.find_all('table')\n",
    "    pb1 = md[3].find_all('td')[1].get_text()\n",
    "    pb2 = pb1.replace(',', '')\n",
    "    pb = int(pb2.replace('$', ''))\n",
    "    #finding the table with production budget and removing commas and $ to convert to integer\n",
    "    md = movie1.find_all('table')\n",
    "    rt = md[3].find_all('a')\n",
    "    rating = None \n",
    "    for a in rt:\n",
    "        if \"mpaa-rating\" in a.get('href'):\n",
    "            rating = a.get_text()\n",
    "    #webscraping rating\n",
    "    year = str(year1)\n",
    "    return {'id': url, 'name': name3, 'domestic_gross': dbo, 'est_dvd_sales': dvs, 'production_budget': pb, 'rating': rating, 'year': year}"
   ]
  },
  {
   "cell_type": "code",
   "execution_count": null,
   "metadata": {},
   "outputs": [],
   "source": [
    "Movies_SQL = []\n",
    "for url in links_2017_list:\n",
    "    Movies_SQL.append(movie_scrape(url, 2017))"
   ]
  },
  {
   "cell_type": "code",
   "execution_count": null,
   "metadata": {},
   "outputs": [],
   "source": [
    "def pull_movies_list(url):\n",
    "    page1 = requests.get(url)\n",
    "    soup = BS(page1.content, 'html.parser')\n",
    "    links = []\n",
    "    for item in soup.find_all('a'):\n",
    "        links.append(item.get('href'))\n",
    "    links_year = links[77:177] \n",
    "    base = 'https://www.the-numbers.com'\n",
    "    links_year_list = []\n",
    "    for item in links_year:\n",
    "        links_year_list.append(base + item)\n",
    "    return links_year_list"
   ]
  },
  {
   "cell_type": "code",
   "execution_count": null,
   "metadata": {},
   "outputs": [],
   "source": [
    "links_2018_list = pull_movies_list('https://www.the-numbers.com/box-office-records/domestic/all-movies/cumulative/released-in-2018')"
   ]
  },
  {
   "cell_type": "code",
   "execution_count": null,
   "metadata": {},
   "outputs": [],
   "source": [
    "for url in links_2018_list:\n",
    "    Movies_SQL.append(movie_scrape(url, 2018))"
   ]
  },
  {
   "cell_type": "code",
   "execution_count": null,
   "metadata": {},
   "outputs": [],
   "source": []
  }
 ],
 "metadata": {
  "kernelspec": {
   "display_name": "Python 3",
   "language": "python",
   "name": "python3"
  },
  "language_info": {
   "codemirror_mode": {
    "name": "ipython",
    "version": 3
   },
   "file_extension": ".py",
   "mimetype": "text/x-python",
   "name": "python",
   "nbconvert_exporter": "python",
   "pygments_lexer": "ipython3",
   "version": "3.7.3"
  }
 },
 "nbformat": 4,
 "nbformat_minor": 2
}
