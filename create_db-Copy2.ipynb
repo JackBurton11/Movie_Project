{
 "cells": [
  {
   "cell_type": "code",
   "execution_count": 1,
   "metadata": {},
   "outputs": [],
   "source": [
    "import config\n",
    "import mysql.connector\n",
    "import Clean_Movie_Project3"
   ]
  },
  {
   "cell_type": "code",
   "execution_count": 2,
   "metadata": {},
   "outputs": [],
   "source": [
    "cnx = mysql.connector.connect(\n",
    "    host = config.host,\n",
    "    user = config.user,\n",
    "    passwd = config.password,\n",
    "    database = 'movies')"
   ]
  },
  {
   "cell_type": "code",
   "execution_count": 3,
   "metadata": {},
   "outputs": [],
   "source": [
    "cursor = cnx.cursor()"
   ]
  },
  {
   "cell_type": "code",
   "execution_count": 119,
   "metadata": {},
   "outputs": [],
   "source": [
    "# stmt =\"\"\"DROP TABLE rotten\"\"\"\n",
    "# cursor.execute(stmt)"
   ]
  },
  {
   "cell_type": "code",
   "execution_count": 120,
   "metadata": {},
   "outputs": [],
   "source": [
    "# stmt = \"\"\"DROP TABLE numbers\"\"\"\n",
    "# cursor.execute(stmt)"
   ]
  },
  {
   "cell_type": "code",
   "execution_count": 5,
   "metadata": {},
   "outputs": [],
   "source": [
    "db_name = 'movies'"
   ]
  },
  {
   "cell_type": "code",
   "execution_count": 8,
   "metadata": {},
   "outputs": [],
   "source": [
    "stmt = \"\"\"CREATE DATABASE movies DEFAULT CHARACTER SET 'utf8'\"\"\"\n",
    "cursor.execute(stmt)"
   ]
  },
  {
   "cell_type": "code",
   "execution_count": 111,
   "metadata": {},
   "outputs": [],
   "source": [
    "tables = {}\n",
    "tables['numbers'] = (\n",
    "    \"CREATE TABLE numbers (\"\n",
    "    \"  id varchar(50) NOT NULL,\"\n",
    "    \"  year varchar(4) NOT NULL,\"\n",
    "    \"  name varchar(50) NOT NULL,\"\n",
    "    \"  domestic_gross int(15),\"\n",
    "    \"  production_budget int(15),\"\n",
    "    \"  est_dvd_sales int(15),\"\n",
    "    \"  rating varchar(6),\"\n",
    "    \"  PRIMARY KEY (id)\"\n",
    "    \") ENGINE=InnoDB\")\n"
   ]
  },
  {
   "cell_type": "code",
   "execution_count": 112,
   "metadata": {},
   "outputs": [],
   "source": [
    "tables['rotten'] = (\n",
    "    \"CREATE TABLE rotten (\"\n",
    "    \"  url varchar(50) NOT NULL,\"\n",
    "    \"  name varchar(50) NOT NULL,\"\n",
    "    \"  critic_rating int(2) NOT NULL,\"\n",
    "    \"  audience_rating int(2),\"\n",
    "    \"  num_critic_reviews int(6),\"\n",
    "    \"  num_audience_reviews int(6),\"\n",
    "    \"  studio varchar(30),\"\n",
    "    \"  numbers_id varchar(50),\"\n",
    "    \"  genre varchar(30),\"\n",
    "    \"  PRIMARY KEY (url),\"\n",
    "    \"  FOREIGN KEY (numbers_id) REFERENCES numbers(id)\"\n",
    "    \") ENGINE=InnoDB\")"
   ]
  },
  {
   "cell_type": "code",
   "execution_count": 121,
   "metadata": {},
   "outputs": [
    {
     "name": "stdout",
     "output_type": "stream",
     "text": [
      "Creating table numbers: OK\n",
      "Creating table rotten: OK\n"
     ]
    }
   ],
   "source": [
    "for table_name in tables:\n",
    "    table_description = tables[table_name]\n",
    "    try:\n",
    "        print(\"Creating table {}: \".format(table_name), end='')\n",
    "        cursor.execute(table_description)\n",
    "    except mysql.connector.Error as err:\n",
    "        if err.errno == errorcode.ER_TABLE_EXISTS_ERROR:\n",
    "            print(\"already exists.\")\n",
    "        else:\n",
    "            print(err.msg)\n",
    "    else:\n",
    "        print(\"OK\")"
   ]
  },
  {
   "cell_type": "code",
   "execution_count": 11,
   "metadata": {},
   "outputs": [],
   "source": [
    "def insert_rating(dict_):\n",
    "    stmt = \"\"\"INSERT INTO numbers\n",
    "            (id, year, name, domestic_gross, production_budget, est_dvd_sales, rating)\n",
    "            VALUES (%(id)s, %(year)s, %(name)s, %(domestic_gross)s, %(production_budget)s, %(est_dvd_sales)s, %(rating)s)\"\"\"\n",
    "    cursor.execute(stmt, dict_)"
   ]
  },
  {
   "cell_type": "code",
   "execution_count": 118,
   "metadata": {},
   "outputs": [],
   "source": [
    "def insert_rotten(r_dict):\n",
    "    stmt = \"\"\"INSERT INTO rotten\n",
    "                (url, name, critic_rating, audience_rating, num_critic_reviews, num_audience_reviews, studio, numbers_id, genre)\n",
    "                VALUES (%(url)s, %(name)s, %(critic_rating)s, %(audience_rating)s, %(num_critic_reviews)s, %(num_audience_reviews)s, %(studio)s, %(numbers_id)s, %(genre)s)\"\"\"\n",
    "    cursor.execute(stmt, r_dict)"
   ]
  },
  {
   "cell_type": "code",
   "execution_count": 122,
   "metadata": {},
   "outputs": [],
   "source": [
    "for movie in Clean_Movie_Project3.Movies_SQL:\n",
    "    insert_rating(movie)\n",
    "    cnx.commit()"
   ]
  },
  {
   "cell_type": "code",
   "execution_count": 25,
   "metadata": {},
   "outputs": [],
   "source": [
    "from rotten_tomatoes_scrape import rotten_scrape"
   ]
  },
  {
   "cell_type": "code",
   "execution_count": 55,
   "metadata": {},
   "outputs": [],
   "source": [
    "stmt = \"\"\"SELECT name, year, id FROM movies.numbers\"\"\"\n",
    "cursor.execute(stmt)"
   ]
  },
  {
   "cell_type": "code",
   "execution_count": 56,
   "metadata": {},
   "outputs": [],
   "source": [
    "titles = []\n",
    "years = []\n",
    "ids = []\n",
    "for obj in cursor:\n",
    "    titles.append(obj[0])\n",
    "    years.append(obj[1])\n",
    "    ids.append(obj[2])"
   ]
  },
  {
   "cell_type": "code",
   "execution_count": 57,
   "metadata": {},
   "outputs": [
    {
     "data": {
      "text/plain": [
       "['12 Strong',\n",
       " 'The 15:17 to Paris',\n",
       " '47 Meters Down',\n",
       " 'Acrimony',\n",
       " 'Adrift',\n",
       " 'Alien: Covenant',\n",
       " 'All Eyez on Me (2016)',\n",
       " 'All the Money in the World',\n",
       " 'Alpha',\n",
       " 'American Assassin',\n",
       " 'American Made',\n",
       " 'Annabelle: Creation',\n",
       " 'Annihilation',\n",
       " 'Ant-Man and the Wasp',\n",
       " 'Aquaman',\n",
       " 'Atomic Blonde',\n",
       " 'Avengers: Infinity War',\n",
       " 'Baby Driver',\n",
       " 'A Bad Moms Christmas',\n",
       " 'Ballerina (2016)',\n",
       " 'Baywatch',\n",
       " 'Beauty and the Beast',\n",
       " 'The Big Sick',\n",
       " 'Black Panther',\n",
       " 'BlacKkKlansman',\n",
       " 'Blade Runner 2049',\n",
       " 'Blockers',\n",
       " 'Bohemian Rhapsody',\n",
       " 'Book Club',\n",
       " 'The Boss Baby',\n",
       " 'Breaking In',\n",
       " 'Bumblebee',\n",
       " 'The Bye Bye Man',\n",
       " 'Captain Underpants: The First Epic Movie',\n",
       " 'Cars 3',\n",
       " 'Christopher Robin',\n",
       " 'Coco',\n",
       " 'The Commuter',\n",
       " 'Crazy Rich Asians',\n",
       " 'Creed II',\n",
       " 'Daddys Home 2',\n",
       " 'The Dark Tower',\n",
       " 'Darkest Hour',\n",
       " 'Deadpool 2',\n",
       " 'Death Wish',\n",
       " 'Den of Thieves',\n",
       " 'Despicable Me 3',\n",
       " 'A Dogs Purpose',\n",
       " 'Downsizing',\n",
       " 'Dr. Seuss The Grinch',\n",
       " 'Dunkirk',\n",
       " 'The Emoji Movie',\n",
       " 'The Equalizer 2',\n",
       " 'Everything, Everything',\n",
       " 'Fantastic Beasts: The Crimes of Grindelwald',\n",
       " 'The Fate of the Furious',\n",
       " 'The Favourite',\n",
       " 'Ferdinand',\n",
       " 'Fifty Shades Darker',\n",
       " 'Fifty Shades Freed',\n",
       " 'First Man',\n",
       " 'The First Purge',\n",
       " 'Fist Fight',\n",
       " 'The Foreigner',\n",
       " 'Game Night',\n",
       " 'Geostorm',\n",
       " 'Get Out',\n",
       " 'Ghost in the Shell',\n",
       " 'Gifted',\n",
       " 'Girls Trip',\n",
       " 'Going in Style',\n",
       " 'Goosebumps 2: Haunted Halloween',\n",
       " 'The Great Wall (2016)',\n",
       " 'The Greatest Showman',\n",
       " 'Green Book',\n",
       " 'Guardians of the Galaxy Vol 2',\n",
       " 'Halloween',\n",
       " 'Happy Death Day',\n",
       " 'The Hate U Give',\n",
       " 'Hereditary',\n",
       " 'The Hitmans Bodyguard',\n",
       " 'Holmes & Watson',\n",
       " 'Home Again',\n",
       " 'Hostiles',\n",
       " 'Hotel Transylvania 3: Summer Vacation',\n",
       " 'The House',\n",
       " 'The House with a Clock in its Walls',\n",
       " 'How to Be a Latin Lover',\n",
       " 'I Can Only Imagine',\n",
       " 'I Feel Pretty',\n",
       " 'I, Tonya',\n",
       " 'Incredibles 2',\n",
       " 'Insidious: The Last Key',\n",
       " 'Instant Family',\n",
       " 'Isle of Dogs',\n",
       " 'It',\n",
       " 'Jigsaw',\n",
       " 'John Wick: Chapter Two',\n",
       " 'Jumanji: Welcome to the Jungle',\n",
       " 'Jurassic World: Fallen Kingdom',\n",
       " 'Justice League',\n",
       " 'Kidnap',\n",
       " 'King Arthur: Legend of the Sword',\n",
       " 'Kingsman: The Golden Circle',\n",
       " 'Kong: Skull Island',\n",
       " 'Lady Bird',\n",
       " 'The Lego Batman Movie',\n",
       " 'The Lego Ninjago Movie',\n",
       " 'Life',\n",
       " 'Life of the Party',\n",
       " 'Logan',\n",
       " 'Logan Lucky',\n",
       " 'Love, Simon',\n",
       " 'Mamma Mia: Here We Go Again!',\n",
       " 'Mary Poppins Returns',\n",
       " 'Maze Runner: The Death Cure',\n",
       " 'The Meg',\n",
       " 'Mile 22',\n",
       " 'Mission: Impossible Fallout',\n",
       " 'Mollys Game',\n",
       " 'Monster Trucks (2016)',\n",
       " 'The Mountain Between Us',\n",
       " 'The Mule',\n",
       " 'The Mummy',\n",
       " 'Murder on the Orient Express',\n",
       " 'My Little Pony: The Movie',\n",
       " 'Night School',\n",
       " 'Nobodys Fool',\n",
       " 'The Nun',\n",
       " 'The Nut Job 2: Nutty by Nature',\n",
       " 'The Nutcracker and the Four Realms',\n",
       " 'Oceans 8',\n",
       " 'On the Basis of Sex',\n",
       " 'Overboard',\n",
       " 'Overlord',\n",
       " 'Pacific Rim: Uprising',\n",
       " 'Paddington 2 (2017)',\n",
       " 'Peppermint',\n",
       " 'Peter Rabbit',\n",
       " 'Phantom Thread',\n",
       " 'Pirates of the Caribbean: Dead Men Tell No Tales',\n",
       " 'Pitch Perfect 3',\n",
       " 'The Post',\n",
       " 'Power Rangers',\n",
       " 'The Predator',\n",
       " 'A Quiet Place',\n",
       " 'Ralph Breaks The Internet',\n",
       " 'Rampage',\n",
       " 'Ready Player One',\n",
       " 'Red Sparrow',\n",
       " 'Resident Evil: The Final Chapter (2016)',\n",
       " 'Rings',\n",
       " 'Robin Hood',\n",
       " 'Rough Night',\n",
       " 'Searching',\n",
       " 'Second Act',\n",
       " 'The Shack',\n",
       " 'The Shape of Water',\n",
       " 'Sherlock Gnomes',\n",
       " 'Sicario: Day of the Soldado',\n",
       " 'A Simple Favor',\n",
       " 'Skyscraper',\n",
       " 'Slender Man',\n",
       " 'Smallfoot',\n",
       " 'Smurfs: The Lost Village',\n",
       " 'Snatched',\n",
       " 'Solo: A Star Wars Story',\n",
       " 'Spider-Man: Homecoming',\n",
       " 'Spider-Man: Into The Spider-Verse 3D',\n",
       " 'Split',\n",
       " 'The Spy Who Dumped Me',\n",
       " 'A Star is Born',\n",
       " 'The Star',\n",
       " 'Star Wars Ep. VIII: The Last Jedi',\n",
       " 'The Strangers: Prey at Night',\n",
       " 'Super Troopers 2',\n",
       " 'Tag',\n",
       " 'Teen Titans Go! To The Movies',\n",
       " 'Thor: Ragnarok',\n",
       " 'Three Billboards Outside Ebbing, Missouri',\n",
       " 'Tomb Raider',\n",
       " 'Transformers: The Last Knight',\n",
       " 'Truth or Dare',\n",
       " 'Tyler Perrys Boo 2! A Madea Halloween',\n",
       " 'Uncle Drew',\n",
       " 'Underworld: Blood Wars (2016)',\n",
       " 'Valerian and the City of a Thousand Planets',\n",
       " 'Venom',\n",
       " 'Vice',\n",
       " 'Victoria and Abdul',\n",
       " 'War for the Planet of the Apes',\n",
       " 'White Boy Rick',\n",
       " 'Widows',\n",
       " 'Winchester',\n",
       " 'Wind River',\n",
       " 'Wonder',\n",
       " 'Wonder Woman',\n",
       " 'Wont You Be My Neighbor?',\n",
       " 'A Wrinkle in Time',\n",
       " 'xXx: Return of Xander Cage']"
      ]
     },
     "execution_count": 57,
     "metadata": {},
     "output_type": "execute_result"
    }
   ],
   "source": [
    "titles"
   ]
  },
  {
   "cell_type": "code",
   "execution_count": 58,
   "metadata": {},
   "outputs": [],
   "source": [
    "titles_clean = [title.replace(\" (2016)\", \"\") for title in titles]"
   ]
  },
  {
   "cell_type": "code",
   "execution_count": 59,
   "metadata": {},
   "outputs": [],
   "source": [
    "titles_clean = [title.replace(\":\", \"\") for title in titles_clean]"
   ]
  },
  {
   "cell_type": "code",
   "execution_count": 60,
   "metadata": {},
   "outputs": [],
   "source": [
    "titles_clean = [title.replace(\"-\", \"_\") for title in titles_clean]\n"
   ]
  },
  {
   "cell_type": "code",
   "execution_count": 61,
   "metadata": {},
   "outputs": [],
   "source": [
    "titles_clean = [title.replace(\"Dr. Seuss \", \"\") for title in titles_clean]"
   ]
  },
  {
   "cell_type": "code",
   "execution_count": 62,
   "metadata": {},
   "outputs": [],
   "source": [
    "titles_clean = [title.replace(\",\", \"\") for title in titles_clean]"
   ]
  },
  {
   "cell_type": "code",
   "execution_count": 63,
   "metadata": {},
   "outputs": [],
   "source": [
    "titles_clean = [title.replace(\"?\", \"\") for title in titles_clean]"
   ]
  },
  {
   "cell_type": "code",
   "execution_count": 64,
   "metadata": {},
   "outputs": [],
   "source": [
    "titles_clean = [title.replace(\"!\", \"\") for title in titles_clean]"
   ]
  },
  {
   "cell_type": "code",
   "execution_count": 65,
   "metadata": {},
   "outputs": [],
   "source": [
    "titles_clean = [title.replace(\"&\", \"and\") for title in titles_clean]"
   ]
  },
  {
   "cell_type": "code",
   "execution_count": 66,
   "metadata": {},
   "outputs": [],
   "source": [
    "titles_clean = [title.replace(\" (2017)\", \"\") for title in titles_clean]"
   ]
  },
  {
   "cell_type": "code",
   "execution_count": 73,
   "metadata": {},
   "outputs": [],
   "source": [
    "titles_clean = [title.replace(\" 3D\", \"\") for title in titles_clean]"
   ]
  },
  {
   "cell_type": "code",
   "execution_count": 80,
   "metadata": {},
   "outputs": [],
   "source": [
    "titles_clean = [title.replace(\".\", \"\") for title in titles_clean]"
   ]
  },
  {
   "cell_type": "code",
   "execution_count": 86,
   "metadata": {},
   "outputs": [],
   "source": [
    "titles_clean = [title.replace(\" Ep VIII\", \"\") for title in titles_clean]"
   ]
  },
  {
   "cell_type": "code",
   "execution_count": 87,
   "metadata": {},
   "outputs": [
    {
     "data": {
      "text/plain": [
       "['12 Strong',\n",
       " 'The 1517 to Paris',\n",
       " '47 Meters Down',\n",
       " 'Acrimony',\n",
       " 'Adrift',\n",
       " 'Alien Covenant',\n",
       " 'All Eyez on Me',\n",
       " 'All the Money in the World',\n",
       " 'Alpha',\n",
       " 'American Assassin',\n",
       " 'American Made',\n",
       " 'Annabelle Creation',\n",
       " 'Annihilation',\n",
       " 'Ant_Man and the Wasp',\n",
       " 'Aquaman',\n",
       " 'Atomic Blonde',\n",
       " 'Avengers Infinity War',\n",
       " 'Baby Driver',\n",
       " 'A Bad Moms Christmas',\n",
       " 'Ballerina',\n",
       " 'Baywatch',\n",
       " 'Beauty and the Beast',\n",
       " 'The Big Sick',\n",
       " 'Black Panther',\n",
       " 'BlacKkKlansman',\n",
       " 'Blade Runner 2049',\n",
       " 'Blockers',\n",
       " 'Bohemian Rhapsody',\n",
       " 'Book Club',\n",
       " 'The Boss Baby',\n",
       " 'Breaking In',\n",
       " 'Bumblebee',\n",
       " 'The Bye Bye Man',\n",
       " 'Captain Underpants The First Epic Movie',\n",
       " 'Cars 3',\n",
       " 'Christopher Robin',\n",
       " 'Coco',\n",
       " 'The Commuter',\n",
       " 'Crazy Rich Asians',\n",
       " 'Creed II',\n",
       " 'Daddys Home 2',\n",
       " 'The Dark Tower',\n",
       " 'Darkest Hour',\n",
       " 'Deadpool 2',\n",
       " 'Death Wish',\n",
       " 'Den of Thieves',\n",
       " 'Despicable Me 3',\n",
       " 'A Dogs Purpose',\n",
       " 'Downsizing',\n",
       " 'The Grinch',\n",
       " 'Dunkirk',\n",
       " 'The Emoji Movie',\n",
       " 'The Equalizer 2',\n",
       " 'Everything Everything',\n",
       " 'Fantastic Beasts The Crimes of Grindelwald',\n",
       " 'The Fate of the Furious',\n",
       " 'The Favourite',\n",
       " 'Ferdinand',\n",
       " 'Fifty Shades Darker',\n",
       " 'Fifty Shades Freed',\n",
       " 'First Man',\n",
       " 'The First Purge',\n",
       " 'Fist Fight',\n",
       " 'The Foreigner',\n",
       " 'Game Night',\n",
       " 'Geostorm',\n",
       " 'Get Out',\n",
       " 'Ghost in the Shell',\n",
       " 'Gifted',\n",
       " 'Girls Trip',\n",
       " 'Going in Style',\n",
       " 'Goosebumps 2 Haunted Halloween',\n",
       " 'The Great Wall',\n",
       " 'The Greatest Showman',\n",
       " 'Green Book',\n",
       " 'Guardians of the Galaxy Vol 2',\n",
       " 'Halloween',\n",
       " 'Happy Death Day',\n",
       " 'The Hate U Give',\n",
       " 'Hereditary',\n",
       " 'The Hitmans Bodyguard',\n",
       " 'Holmes and Watson',\n",
       " 'Home Again',\n",
       " 'Hostiles',\n",
       " 'Hotel Transylvania 3 Summer Vacation',\n",
       " 'The House',\n",
       " 'The House with a Clock in its Walls',\n",
       " 'How to Be a Latin Lover',\n",
       " 'I Can Only Imagine',\n",
       " 'I Feel Pretty',\n",
       " 'I Tonya',\n",
       " 'Incredibles 2',\n",
       " 'Insidious The Last Key',\n",
       " 'Instant Family',\n",
       " 'Isle of Dogs',\n",
       " 'It',\n",
       " 'Jigsaw',\n",
       " 'John Wick Chapter Two',\n",
       " 'Jumanji Welcome to the Jungle',\n",
       " 'Jurassic World Fallen Kingdom',\n",
       " 'Justice League',\n",
       " 'Kidnap',\n",
       " 'King Arthur Legend of the Sword',\n",
       " 'Kingsman The Golden Circle',\n",
       " 'Kong Skull Island',\n",
       " 'Lady Bird',\n",
       " 'The Lego Batman Movie',\n",
       " 'The Lego Ninjago Movie',\n",
       " 'Life',\n",
       " 'Life of the Party',\n",
       " 'Logan',\n",
       " 'Logan Lucky',\n",
       " 'Love Simon',\n",
       " 'Mamma Mia Here We Go Again',\n",
       " 'Mary Poppins Returns',\n",
       " 'Maze Runner The Death Cure',\n",
       " 'The Meg',\n",
       " 'Mile 22',\n",
       " 'Mission Impossible Fallout',\n",
       " 'Mollys Game',\n",
       " 'Monster Trucks',\n",
       " 'The Mountain Between Us',\n",
       " 'The Mule',\n",
       " 'The Mummy',\n",
       " 'Murder on the Orient Express',\n",
       " 'My Little Pony The Movie',\n",
       " 'Night School',\n",
       " 'Nobodys Fool',\n",
       " 'The Nun',\n",
       " 'The Nut Job 2 Nutty by Nature',\n",
       " 'The Nutcracker and the Four Realms',\n",
       " 'Oceans 8',\n",
       " 'On the Basis of Sex',\n",
       " 'Overboard',\n",
       " 'Overlord',\n",
       " 'Pacific Rim Uprising',\n",
       " 'Paddington 2',\n",
       " 'Peppermint',\n",
       " 'Peter Rabbit',\n",
       " 'Phantom Thread',\n",
       " 'Pirates of the Caribbean Dead Men Tell No Tales',\n",
       " 'Pitch Perfect 3',\n",
       " 'The Post',\n",
       " 'Power Rangers',\n",
       " 'The Predator',\n",
       " 'A Quiet Place',\n",
       " 'Ralph Breaks The Internet',\n",
       " 'Rampage',\n",
       " 'Ready Player One',\n",
       " 'Red Sparrow',\n",
       " 'Resident Evil The Final Chapter',\n",
       " 'Rings',\n",
       " 'Robin Hood',\n",
       " 'Rough Night',\n",
       " 'Searching',\n",
       " 'Second Act',\n",
       " 'The Shack',\n",
       " 'The Shape of Water',\n",
       " 'Sherlock Gnomes',\n",
       " 'Sicario Day of the Soldado',\n",
       " 'A Simple Favor',\n",
       " 'Skyscraper',\n",
       " 'Slender Man',\n",
       " 'Smallfoot',\n",
       " 'Smurfs The Lost Village',\n",
       " 'Snatched',\n",
       " 'Solo A Star Wars Story',\n",
       " 'Spider_Man Homecoming',\n",
       " 'Spider_Man Into The Spider_Verse',\n",
       " 'Split',\n",
       " 'The Spy Who Dumped Me',\n",
       " 'A Star is Born',\n",
       " 'The Star',\n",
       " 'Star Wars The Last Jedi',\n",
       " 'The Strangers Prey at Night',\n",
       " 'Super Troopers 2',\n",
       " 'Tag',\n",
       " 'Teen Titans Go To The Movies',\n",
       " 'Thor Ragnarok',\n",
       " 'Three Billboards Outside Ebbing Missouri',\n",
       " 'Tomb Raider',\n",
       " 'Transformers The Last Knight',\n",
       " 'Truth or Dare',\n",
       " 'Tyler Perrys Boo 2 A Madea Halloween',\n",
       " 'Uncle Drew',\n",
       " 'Underworld Blood Wars',\n",
       " 'Valerian and the City of a Thousand Planets',\n",
       " 'Venom',\n",
       " 'Vice',\n",
       " 'Victoria and Abdul',\n",
       " 'War for the Planet of the Apes',\n",
       " 'White Boy Rick',\n",
       " 'Widows',\n",
       " 'Winchester',\n",
       " 'Wind River',\n",
       " 'Wonder',\n",
       " 'Wonder Woman',\n",
       " 'Wont You Be My Neighbor',\n",
       " 'A Wrinkle in Time',\n",
       " 'xXx Return of Xander Cage']"
      ]
     },
     "execution_count": 87,
     "metadata": {},
     "output_type": "execute_result"
    }
   ],
   "source": [
    "titles_clean"
   ]
  },
  {
   "cell_type": "code",
   "execution_count": 96,
   "metadata": {},
   "outputs": [
    {
     "data": {
      "text/plain": [
       "{'audience_rating': 38,\n",
       " 'critic_rating': 23,\n",
       " 'genre': 'Drama',\n",
       " 'name': 'The 15:17 to Paris',\n",
       " 'num_audience_reviews': 2867,\n",
       " 'num_critic_reviews': 162,\n",
       " 'studio': '120 minutes',\n",
       " 'url': 'https://www.rottentomatoes.com/m/The_1517_to_Paris'}"
      ]
     },
     "execution_count": 96,
     "metadata": {},
     "output_type": "execute_result"
    }
   ],
   "source": [
    "rotten_scrape(titles_clean[1])\n"
   ]
  },
  {
   "cell_type": "code",
   "execution_count": 88,
   "metadata": {},
   "outputs": [],
   "source": [
    "zipped = list(zip(titles_clean, years, ids))"
   ]
  },
  {
   "cell_type": "code",
   "execution_count": 89,
   "metadata": {},
   "outputs": [
    {
     "data": {
      "text/plain": [
       "'Star Wars The Last Jedi'"
      ]
     },
     "execution_count": 89,
     "metadata": {},
     "output_type": "execute_result"
    }
   ],
   "source": [
    "zipped[173][0]"
   ]
  },
  {
   "cell_type": "code",
   "execution_count": 90,
   "metadata": {},
   "outputs": [],
   "source": [
    "\n",
    "for item in zipped[173:]:\n",
    "    try:\n",
    "        dict_ = rotten_scrape(item[0])\n",
    "        dict_['numbers_id'] = item[2]\n",
    "        rotten_sql.append(dict_)\n",
    "    except:\n",
    "        dict_ = rotten_scrape(item[0], year=int(item[1]))\n",
    "        dict_['numbers_id'] = item[2]\n",
    "        rotten_sql.append(dict_)          \n",
    "        "
   ]
  },
  {
   "cell_type": "code",
   "execution_count": 116,
   "metadata": {},
   "outputs": [
    {
     "data": {
      "text/plain": [
       "{'audience_rating': 63,\n",
       " 'critic_rating': 51,\n",
       " 'genre': 'Action & Adventure, Drama',\n",
       " 'name': '12 Strong',\n",
       " 'num_audience_reviews': 5066,\n",
       " 'num_critic_reviews': 166,\n",
       " 'numbers_id': 'https://www.the-numbers.com/movie/12-Strong#tab=su',\n",
       " 'studio': 'Warner Bros. Pictures',\n",
       " 'url': 'https://www.rottentomatoes.com/m/12_Strong'}"
      ]
     },
     "execution_count": 116,
     "metadata": {},
     "output_type": "execute_result"
    }
   ],
   "source": [
    "rotten_sql[0]"
   ]
  },
  {
   "cell_type": "code",
   "execution_count": 123,
   "metadata": {},
   "outputs": [],
   "source": [
    "for movie in rotten_sql:\n",
    "    insert_rotten(movie)\n",
    "    cnx.commit()"
   ]
  },
  {
   "cell_type": "code",
   "execution_count": null,
   "metadata": {},
   "outputs": [],
   "source": []
  }
 ],
 "metadata": {
  "kernelspec": {
   "display_name": "Python 3",
   "language": "python",
   "name": "python3"
  },
  "language_info": {
   "codemirror_mode": {
    "name": "ipython",
    "version": 3
   },
   "file_extension": ".py",
   "mimetype": "text/x-python",
   "name": "python",
   "nbconvert_exporter": "python",
   "pygments_lexer": "ipython3",
   "version": "3.6.4"
  }
 },
 "nbformat": 4,
 "nbformat_minor": 2
}
